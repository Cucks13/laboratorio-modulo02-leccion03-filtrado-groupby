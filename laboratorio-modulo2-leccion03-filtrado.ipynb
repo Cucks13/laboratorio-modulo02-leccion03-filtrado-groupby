{
 "cells": [
  {
   "cell_type": "markdown",
   "id": "58d52421",
   "metadata": {},
   "source": [
    "<div style=\"text-align: center;\">\n",
    "  <img src=\"https://github.com/Hack-io-Data/Imagenes/blob/main/01-LogosHackio/logo_naranja@4x.png?raw=true\" alt=\"esquema\" />\n",
    "</div>"
   ]
  },
  {
   "cell_type": "markdown",
   "id": "5976b91e",
   "metadata": {},
   "source": [
    "# Laboratorio Filtrado de Datos\n",
    "\n",
    "En este laboratorio usaremos el DataFrame creado en la lección anterior resultado de la unión de los conjuntos de datos compartidos contigo. \n",
    "\n",
    "**Instrucciones:**\n",
    "\n",
    "1. Lee cuidadosamente el enunciado de cada ejercicio.\n",
    "\n",
    "2. Implementa la solución en la celda de código proporcionada."
   ]
  },
  {
   "cell_type": "code",
   "execution_count": 3,
   "id": "f33d92ae",
   "metadata": {},
   "outputs": [],
   "source": [
    "# Carga el dataset de trabajo\n",
    "import pandas as pd\n",
    "import numpy as np\n",
    "df_concat = pd.read_csv(\"datos/netflix_concat.csv\")"
   ]
  },
  {
   "cell_type": "markdown",
   "id": "baef3e35",
   "metadata": {},
   "source": [
    "#### Ejercicio 1: ¿Cuáles son todos los títulos lanzados en 2021 que son del tipo 'Movie'?"
   ]
  },
  {
   "cell_type": "code",
   "execution_count": 9,
   "id": "d53e9422",
   "metadata": {},
   "outputs": [
    {
     "data": {
      "text/html": [
       "<div>\n",
       "<style scoped>\n",
       "    .dataframe tbody tr th:only-of-type {\n",
       "        vertical-align: middle;\n",
       "    }\n",
       "\n",
       "    .dataframe tbody tr th {\n",
       "        vertical-align: top;\n",
       "    }\n",
       "\n",
       "    .dataframe thead th {\n",
       "        text-align: right;\n",
       "    }\n",
       "</style>\n",
       "<table border=\"1\" class=\"dataframe\">\n",
       "  <thead>\n",
       "    <tr style=\"text-align: right;\">\n",
       "      <th></th>\n",
       "      <th>Unnamed: 0</th>\n",
       "      <th>show_id</th>\n",
       "      <th>type</th>\n",
       "      <th>title</th>\n",
       "      <th>director</th>\n",
       "      <th>cast</th>\n",
       "      <th>country</th>\n",
       "      <th>date_added</th>\n",
       "      <th>release_year</th>\n",
       "      <th>rating</th>\n",
       "      <th>duration</th>\n",
       "      <th>listed_in</th>\n",
       "      <th>description</th>\n",
       "      <th>Title</th>\n",
       "      <th>Genre</th>\n",
       "      <th>Premiere</th>\n",
       "      <th>Runtime</th>\n",
       "      <th>IMDB Score</th>\n",
       "      <th>Language</th>\n",
       "    </tr>\n",
       "  </thead>\n",
       "  <tbody>\n",
       "    <tr>\n",
       "      <th>2</th>\n",
       "      <td>2</td>\n",
       "      <td>s625</td>\n",
       "      <td>Movie</td>\n",
       "      <td>Prime Time</td>\n",
       "      <td>Jakub Piątek</td>\n",
       "      <td>Bartosz Bielenia, Magdalena Popławska, Andrzej...</td>\n",
       "      <td>NaN</td>\n",
       "      <td>June 30, 2021</td>\n",
       "      <td>2021</td>\n",
       "      <td>TV-MA</td>\n",
       "      <td>NaN</td>\n",
       "      <td>Dramas, International Movies, Thrillers</td>\n",
       "      <td>On New Year’s Eve 1999, an armed man enters a ...</td>\n",
       "      <td>Prime Time</td>\n",
       "      <td>Thriller</td>\n",
       "      <td>April 14, 2021</td>\n",
       "      <td>91</td>\n",
       "      <td>5.7</td>\n",
       "      <td>Polish</td>\n",
       "    </tr>\n",
       "    <tr>\n",
       "      <th>3</th>\n",
       "      <td>3</td>\n",
       "      <td>s835</td>\n",
       "      <td>Movie</td>\n",
       "      <td>Blue Miracle</td>\n",
       "      <td>Julio Quintana</td>\n",
       "      <td>Jimmy Gonzales, Dennis Quaid, Anthony Gonzalez...</td>\n",
       "      <td>United States</td>\n",
       "      <td>May 27, 2021</td>\n",
       "      <td>2021</td>\n",
       "      <td>TV-PG</td>\n",
       "      <td>NaN</td>\n",
       "      <td>Children &amp; Family Movies, Dramas, Faith &amp; Spir...</td>\n",
       "      <td>To save their cash-strapped orphanage, a guard...</td>\n",
       "      <td>Blue Miracle</td>\n",
       "      <td>Drama</td>\n",
       "      <td>May 27, 2021</td>\n",
       "      <td>95</td>\n",
       "      <td>6.7</td>\n",
       "      <td>English</td>\n",
       "    </tr>\n",
       "  </tbody>\n",
       "</table>\n",
       "</div>"
      ],
      "text/plain": [
       "   Unnamed: 0 show_id   type         title        director  \\\n",
       "2           2    s625  Movie    Prime Time    Jakub Piątek   \n",
       "3           3    s835  Movie  Blue Miracle  Julio Quintana   \n",
       "\n",
       "                                                cast        country  \\\n",
       "2  Bartosz Bielenia, Magdalena Popławska, Andrzej...            NaN   \n",
       "3  Jimmy Gonzales, Dennis Quaid, Anthony Gonzalez...  United States   \n",
       "\n",
       "      date_added  release_year rating duration  \\\n",
       "2  June 30, 2021          2021  TV-MA      NaN   \n",
       "3   May 27, 2021          2021  TV-PG      NaN   \n",
       "\n",
       "                                           listed_in  \\\n",
       "2            Dramas, International Movies, Thrillers   \n",
       "3  Children & Family Movies, Dramas, Faith & Spir...   \n",
       "\n",
       "                                         description         Title     Genre  \\\n",
       "2  On New Year’s Eve 1999, an armed man enters a ...    Prime Time  Thriller   \n",
       "3  To save their cash-strapped orphanage, a guard...  Blue Miracle     Drama   \n",
       "\n",
       "         Premiere  Runtime  IMDB Score Language  \n",
       "2  April 14, 2021       91         5.7   Polish  \n",
       "3    May 27, 2021       95         6.7  English  "
      ]
     },
     "execution_count": 9,
     "metadata": {},
     "output_type": "execute_result"
    }
   ],
   "source": [
    "condicion1 = df_concat[\"type\"] == \"Movie\"\n",
    "condicion2 = df_concat[\"release_year\"] == 2021\n",
    "df_concat[condicion1 & condicion2].head(2)"
   ]
  },
  {
   "cell_type": "markdown",
   "id": "e0bc11c3",
   "metadata": {},
   "source": [
    "#### Ejercicio 2: ¿Qué títulos tienen una duración de 90 minutos? Muestra solo las columnas de título y de duración."
   ]
  },
  {
   "cell_type": "code",
   "execution_count": 28,
   "id": "8ba93e4d",
   "metadata": {},
   "outputs": [
    {
     "data": {
      "text/html": [
       "<div>\n",
       "<style scoped>\n",
       "    .dataframe tbody tr th:only-of-type {\n",
       "        vertical-align: middle;\n",
       "    }\n",
       "\n",
       "    .dataframe tbody tr th {\n",
       "        vertical-align: top;\n",
       "    }\n",
       "\n",
       "    .dataframe thead th {\n",
       "        text-align: right;\n",
       "    }\n",
       "</style>\n",
       "<table border=\"1\" class=\"dataframe\">\n",
       "  <thead>\n",
       "    <tr style=\"text-align: right;\">\n",
       "      <th></th>\n",
       "      <th>title</th>\n",
       "      <th>duration</th>\n",
       "    </tr>\n",
       "  </thead>\n",
       "  <tbody>\n",
       "  </tbody>\n",
       "</table>\n",
       "</div>"
      ],
      "text/plain": [
       "Empty DataFrame\n",
       "Columns: [title, duration]\n",
       "Index: []"
      ]
     },
     "execution_count": 28,
     "metadata": {},
     "output_type": "execute_result"
    }
   ],
   "source": [
    "condicion1 = df_concat[\"duration\"] == 90\n",
    "\n",
    "df_concat[condicion1][[\"title\", \"duration\"]]"
   ]
  },
  {
   "cell_type": "markdown",
   "id": "9e10b8ff",
   "metadata": {},
   "source": [
    "#### Ejercicio 3: ¿Cuáles son todos los títulos del país 'India' lanzados después de 2018?"
   ]
  },
  {
   "cell_type": "code",
   "execution_count": 27,
   "id": "7de490ce",
   "metadata": {},
   "outputs": [
    {
     "data": {
      "text/html": [
       "<div>\n",
       "<style scoped>\n",
       "    .dataframe tbody tr th:only-of-type {\n",
       "        vertical-align: middle;\n",
       "    }\n",
       "\n",
       "    .dataframe tbody tr th {\n",
       "        vertical-align: top;\n",
       "    }\n",
       "\n",
       "    .dataframe thead th {\n",
       "        text-align: right;\n",
       "    }\n",
       "</style>\n",
       "<table border=\"1\" class=\"dataframe\">\n",
       "  <thead>\n",
       "    <tr style=\"text-align: right;\">\n",
       "      <th></th>\n",
       "      <th>Unnamed: 0</th>\n",
       "      <th>show_id</th>\n",
       "      <th>type</th>\n",
       "      <th>title</th>\n",
       "      <th>director</th>\n",
       "      <th>cast</th>\n",
       "      <th>country</th>\n",
       "      <th>date_added</th>\n",
       "      <th>release_year</th>\n",
       "      <th>rating</th>\n",
       "      <th>duration</th>\n",
       "      <th>listed_in</th>\n",
       "      <th>description</th>\n",
       "      <th>Title</th>\n",
       "      <th>Genre</th>\n",
       "      <th>Premiere</th>\n",
       "      <th>Runtime</th>\n",
       "      <th>IMDB Score</th>\n",
       "      <th>Language</th>\n",
       "    </tr>\n",
       "  </thead>\n",
       "  <tbody>\n",
       "    <tr>\n",
       "      <th>8</th>\n",
       "      <td>8</td>\n",
       "      <td>s872</td>\n",
       "      <td>Movie</td>\n",
       "      <td>Sardar Ka Grandson</td>\n",
       "      <td>Kaashvie Nair</td>\n",
       "      <td>Arjun Kapoor, Neena Gupta, Rakul Preet Singh, ...</td>\n",
       "      <td>India</td>\n",
       "      <td>May 18, 2021</td>\n",
       "      <td>2021</td>\n",
       "      <td>TV-14</td>\n",
       "      <td>140 min</td>\n",
       "      <td>Comedies, Dramas, International Movies</td>\n",
       "      <td>A devoted grandson’s mission to reunite his ai...</td>\n",
       "      <td>Sardar Ka Grandson</td>\n",
       "      <td>Comedy</td>\n",
       "      <td>May 18, 2021</td>\n",
       "      <td>139</td>\n",
       "      <td>4.1</td>\n",
       "      <td>Hindi</td>\n",
       "    </tr>\n",
       "    <tr>\n",
       "      <th>13</th>\n",
       "      <td>13</td>\n",
       "      <td>s910</td>\n",
       "      <td>Movie</td>\n",
       "      <td>Milestone</td>\n",
       "      <td>Ivan Ayr</td>\n",
       "      <td>Suvinder Vicky, Lakshvir Saran, Mohinder Gujra...</td>\n",
       "      <td>India</td>\n",
       "      <td>May 7, 2021</td>\n",
       "      <td>2021</td>\n",
       "      <td>TV-14</td>\n",
       "      <td>98 min</td>\n",
       "      <td>Dramas, Independent Movies, International Movies</td>\n",
       "      <td>Recently marking 500,000 kilometers on the roa...</td>\n",
       "      <td>Milestone</td>\n",
       "      <td>Drama</td>\n",
       "      <td>May 7, 2021</td>\n",
       "      <td>98</td>\n",
       "      <td>6.6</td>\n",
       "      <td>Hindi</td>\n",
       "    </tr>\n",
       "    <tr>\n",
       "      <th>15</th>\n",
       "      <td>15</td>\n",
       "      <td>s960</td>\n",
       "      <td>Movie</td>\n",
       "      <td>The Disciple</td>\n",
       "      <td>Chaitanya Tamhane</td>\n",
       "      <td>Aditya Modak, Arun Dravid, Sumitra Bhave, Deep...</td>\n",
       "      <td>India</td>\n",
       "      <td>April 30, 2021</td>\n",
       "      <td>2021</td>\n",
       "      <td>TV-MA</td>\n",
       "      <td>128 min</td>\n",
       "      <td>Dramas, Independent Movies, International Movies</td>\n",
       "      <td>Self-doubt, sacrifice and struggle converge in...</td>\n",
       "      <td>The Disciple</td>\n",
       "      <td>Drama</td>\n",
       "      <td>April 30, 2021</td>\n",
       "      <td>129</td>\n",
       "      <td>7.2</td>\n",
       "      <td>Marathi</td>\n",
       "    </tr>\n",
       "    <tr>\n",
       "      <th>18</th>\n",
       "      <td>18</td>\n",
       "      <td>s1024</td>\n",
       "      <td>Movie</td>\n",
       "      <td>Ajeeb Daastaans</td>\n",
       "      <td>Shashank Khaitan, Raj Mehta, Neeraj Ghaywan, K...</td>\n",
       "      <td>Fatima Sana Shaikh, Jaideep Ahlawat, Armaan Ra...</td>\n",
       "      <td>India</td>\n",
       "      <td>April 16, 2021</td>\n",
       "      <td>2021</td>\n",
       "      <td>TV-MA</td>\n",
       "      <td>142 min</td>\n",
       "      <td>Dramas, Independent Movies, International Movies</td>\n",
       "      <td>Four shorts explore the surprising ways in whi...</td>\n",
       "      <td>Ajeeb Daastaans</td>\n",
       "      <td>Drama</td>\n",
       "      <td>April 16, 2021</td>\n",
       "      <td>142</td>\n",
       "      <td>6.7</td>\n",
       "      <td>Hindi</td>\n",
       "    </tr>\n",
       "    <tr>\n",
       "      <th>31</th>\n",
       "      <td>31</td>\n",
       "      <td>s1166</td>\n",
       "      <td>Movie</td>\n",
       "      <td>Pagglait</td>\n",
       "      <td>Umesh Bist</td>\n",
       "      <td>Sanya Malhotra, Sayani Gupta, Ashutosh Rana, R...</td>\n",
       "      <td>India</td>\n",
       "      <td>March 26, 2021</td>\n",
       "      <td>2021</td>\n",
       "      <td>TV-PG</td>\n",
       "      <td>NaN</td>\n",
       "      <td>Comedies, Dramas, International Movies</td>\n",
       "      <td>Widowed soon after marriage, a young woman gra...</td>\n",
       "      <td>Pagglait</td>\n",
       "      <td>Comedy-drama</td>\n",
       "      <td>March 26, 2021</td>\n",
       "      <td>114</td>\n",
       "      <td>6.9</td>\n",
       "      <td>Hindi</td>\n",
       "    </tr>\n",
       "  </tbody>\n",
       "</table>\n",
       "</div>"
      ],
      "text/plain": [
       "    Unnamed: 0 show_id   type               title  \\\n",
       "8            8    s872  Movie  Sardar Ka Grandson   \n",
       "13          13    s910  Movie           Milestone   \n",
       "15          15    s960  Movie        The Disciple   \n",
       "18          18   s1024  Movie     Ajeeb Daastaans   \n",
       "31          31   s1166  Movie            Pagglait   \n",
       "\n",
       "                                             director  \\\n",
       "8                                       Kaashvie Nair   \n",
       "13                                           Ivan Ayr   \n",
       "15                                  Chaitanya Tamhane   \n",
       "18  Shashank Khaitan, Raj Mehta, Neeraj Ghaywan, K...   \n",
       "31                                         Umesh Bist   \n",
       "\n",
       "                                                 cast country      date_added  \\\n",
       "8   Arjun Kapoor, Neena Gupta, Rakul Preet Singh, ...   India    May 18, 2021   \n",
       "13  Suvinder Vicky, Lakshvir Saran, Mohinder Gujra...   India     May 7, 2021   \n",
       "15  Aditya Modak, Arun Dravid, Sumitra Bhave, Deep...   India  April 30, 2021   \n",
       "18  Fatima Sana Shaikh, Jaideep Ahlawat, Armaan Ra...   India  April 16, 2021   \n",
       "31  Sanya Malhotra, Sayani Gupta, Ashutosh Rana, R...   India  March 26, 2021   \n",
       "\n",
       "    release_year rating duration  \\\n",
       "8           2021  TV-14  140 min   \n",
       "13          2021  TV-14   98 min   \n",
       "15          2021  TV-MA  128 min   \n",
       "18          2021  TV-MA  142 min   \n",
       "31          2021  TV-PG      NaN   \n",
       "\n",
       "                                           listed_in  \\\n",
       "8             Comedies, Dramas, International Movies   \n",
       "13  Dramas, Independent Movies, International Movies   \n",
       "15  Dramas, Independent Movies, International Movies   \n",
       "18  Dramas, Independent Movies, International Movies   \n",
       "31            Comedies, Dramas, International Movies   \n",
       "\n",
       "                                          description               Title  \\\n",
       "8   A devoted grandson’s mission to reunite his ai...  Sardar Ka Grandson   \n",
       "13  Recently marking 500,000 kilometers on the roa...           Milestone   \n",
       "15  Self-doubt, sacrifice and struggle converge in...        The Disciple   \n",
       "18  Four shorts explore the surprising ways in whi...     Ajeeb Daastaans   \n",
       "31  Widowed soon after marriage, a young woman gra...            Pagglait   \n",
       "\n",
       "           Genre        Premiere  Runtime  IMDB Score Language  \n",
       "8         Comedy    May 18, 2021      139         4.1    Hindi  \n",
       "13         Drama     May 7, 2021       98         6.6    Hindi  \n",
       "15         Drama  April 30, 2021      129         7.2  Marathi  \n",
       "18         Drama  April 16, 2021      142         6.7    Hindi  \n",
       "31  Comedy-drama  March 26, 2021      114         6.9    Hindi  "
      ]
     },
     "execution_count": 27,
     "metadata": {},
     "output_type": "execute_result"
    }
   ],
   "source": [
    "condicion2 = df_concat[\"country\"] == \"India\"\n",
    "condicion1 = df_concat[\"release_year\"] > 2018\n",
    "df_concat[condicion1 & condicion2].head()"
   ]
  },
  {
   "cell_type": "markdown",
   "id": "4e881098",
   "metadata": {},
   "source": [
    "#### Ejercicio 4: ¿Qué títulos tienen clasificación 'TV-14' o 'R'?"
   ]
  },
  {
   "cell_type": "code",
   "execution_count": 30,
   "id": "79cc1fbe",
   "metadata": {},
   "outputs": [
    {
     "data": {
      "text/html": [
       "<div>\n",
       "<style scoped>\n",
       "    .dataframe tbody tr th:only-of-type {\n",
       "        vertical-align: middle;\n",
       "    }\n",
       "\n",
       "    .dataframe tbody tr th {\n",
       "        vertical-align: top;\n",
       "    }\n",
       "\n",
       "    .dataframe thead th {\n",
       "        text-align: right;\n",
       "    }\n",
       "</style>\n",
       "<table border=\"1\" class=\"dataframe\">\n",
       "  <thead>\n",
       "    <tr style=\"text-align: right;\">\n",
       "      <th></th>\n",
       "      <th>Unnamed: 0</th>\n",
       "      <th>show_id</th>\n",
       "      <th>type</th>\n",
       "      <th>title</th>\n",
       "      <th>director</th>\n",
       "      <th>cast</th>\n",
       "      <th>country</th>\n",
       "      <th>date_added</th>\n",
       "      <th>release_year</th>\n",
       "      <th>rating</th>\n",
       "      <th>duration</th>\n",
       "      <th>listed_in</th>\n",
       "      <th>description</th>\n",
       "      <th>Title</th>\n",
       "      <th>Genre</th>\n",
       "      <th>Premiere</th>\n",
       "      <th>Runtime</th>\n",
       "      <th>IMDB Score</th>\n",
       "      <th>Language</th>\n",
       "    </tr>\n",
       "  </thead>\n",
       "  <tbody>\n",
       "    <tr>\n",
       "      <th>1</th>\n",
       "      <td>1</td>\n",
       "      <td>s142</td>\n",
       "      <td>Movie</td>\n",
       "      <td>Extraction</td>\n",
       "      <td>Steven C. Miller</td>\n",
       "      <td>Bruce Willis, Kellan Lutz, Gina Carano, D.B. S...</td>\n",
       "      <td>United States, United Kingdom, Canada</td>\n",
       "      <td>September 1, 2021</td>\n",
       "      <td>2015</td>\n",
       "      <td>R</td>\n",
       "      <td>82 min</td>\n",
       "      <td>Action &amp; Adventure</td>\n",
       "      <td>When a retired CIA agent is kidnapped, his son...</td>\n",
       "      <td>Extraction</td>\n",
       "      <td>Action</td>\n",
       "      <td>April 24, 2020</td>\n",
       "      <td>117</td>\n",
       "      <td>6.7</td>\n",
       "      <td>English</td>\n",
       "    </tr>\n",
       "    <tr>\n",
       "      <th>7</th>\n",
       "      <td>7</td>\n",
       "      <td>s854</td>\n",
       "      <td>Movie</td>\n",
       "      <td>Army of the Dead</td>\n",
       "      <td>Zack Snyder</td>\n",
       "      <td>Dave Bautista, Ella Purnell, Omari Hardwick, G...</td>\n",
       "      <td>United States</td>\n",
       "      <td>May 21, 2021</td>\n",
       "      <td>2021</td>\n",
       "      <td>R</td>\n",
       "      <td>148 min</td>\n",
       "      <td>Action &amp; Adventure, Horror Movies</td>\n",
       "      <td>After a zombie outbreak in Las Vegas, a group ...</td>\n",
       "      <td>Army of the Dead</td>\n",
       "      <td>Zombie/Heist</td>\n",
       "      <td>May 21, 2021</td>\n",
       "      <td>148</td>\n",
       "      <td>5.9</td>\n",
       "      <td>English</td>\n",
       "    </tr>\n",
       "  </tbody>\n",
       "</table>\n",
       "</div>"
      ],
      "text/plain": [
       "   Unnamed: 0 show_id   type             title          director  \\\n",
       "1           1    s142  Movie        Extraction  Steven C. Miller   \n",
       "7           7    s854  Movie  Army of the Dead       Zack Snyder   \n",
       "\n",
       "                                                cast  \\\n",
       "1  Bruce Willis, Kellan Lutz, Gina Carano, D.B. S...   \n",
       "7  Dave Bautista, Ella Purnell, Omari Hardwick, G...   \n",
       "\n",
       "                                 country         date_added  release_year  \\\n",
       "1  United States, United Kingdom, Canada  September 1, 2021          2015   \n",
       "7                          United States       May 21, 2021          2021   \n",
       "\n",
       "  rating duration                          listed_in  \\\n",
       "1      R   82 min                 Action & Adventure   \n",
       "7      R  148 min  Action & Adventure, Horror Movies   \n",
       "\n",
       "                                         description             Title  \\\n",
       "1  When a retired CIA agent is kidnapped, his son...        Extraction   \n",
       "7  After a zombie outbreak in Las Vegas, a group ...  Army of the Dead   \n",
       "\n",
       "          Genre        Premiere  Runtime  IMDB Score Language  \n",
       "1        Action  April 24, 2020      117         6.7  English  \n",
       "7  Zombie/Heist    May 21, 2021      148         5.9  English  "
      ]
     },
     "execution_count": 30,
     "metadata": {},
     "output_type": "execute_result"
    }
   ],
   "source": [
    "condicion1 = df_concat[\"rating\"] == \"TV-14\"\n",
    "condicion2 = df_concat[\"rating\"] == \"R\"\n",
    "\n",
    "df_concat[condicion1 | condicion2].head(2)"
   ]
  },
  {
   "cell_type": "markdown",
   "id": "5367bf08",
   "metadata": {},
   "source": [
    "#### Ejercicio 5: ¿Cuáles son los títulos dirigidos por 'Christopher Nolan' o 'Martin Scorsese'? ¿Cuántos a dirigido cada uno de los directores?"
   ]
  },
  {
   "cell_type": "code",
   "execution_count": 47,
   "id": "e0562310",
   "metadata": {},
   "outputs": [
    {
     "data": {
      "text/html": [
       "<div>\n",
       "<style scoped>\n",
       "    .dataframe tbody tr th:only-of-type {\n",
       "        vertical-align: middle;\n",
       "    }\n",
       "\n",
       "    .dataframe tbody tr th {\n",
       "        vertical-align: top;\n",
       "    }\n",
       "\n",
       "    .dataframe thead th {\n",
       "        text-align: right;\n",
       "    }\n",
       "</style>\n",
       "<table border=\"1\" class=\"dataframe\">\n",
       "  <thead>\n",
       "    <tr style=\"text-align: right;\">\n",
       "      <th></th>\n",
       "      <th>Unnamed: 0</th>\n",
       "      <th>show_id</th>\n",
       "      <th>type</th>\n",
       "      <th>title</th>\n",
       "      <th>director</th>\n",
       "      <th>cast</th>\n",
       "      <th>country</th>\n",
       "      <th>date_added</th>\n",
       "      <th>release_year</th>\n",
       "      <th>rating</th>\n",
       "      <th>duration</th>\n",
       "      <th>listed_in</th>\n",
       "      <th>description</th>\n",
       "      <th>Title</th>\n",
       "      <th>Genre</th>\n",
       "      <th>Premiere</th>\n",
       "      <th>Runtime</th>\n",
       "      <th>IMDB Score</th>\n",
       "      <th>Language</th>\n",
       "    </tr>\n",
       "  </thead>\n",
       "  <tbody>\n",
       "    <tr>\n",
       "      <th>237</th>\n",
       "      <td>237</td>\n",
       "      <td>s3228</td>\n",
       "      <td>Movie</td>\n",
       "      <td>The Irishman</td>\n",
       "      <td>Martin Scorsese</td>\n",
       "      <td>Robert De Niro, Al Pacino, Joe Pesci, Harvey K...</td>\n",
       "      <td>United States</td>\n",
       "      <td>November 27, 2019</td>\n",
       "      <td>2019</td>\n",
       "      <td>R</td>\n",
       "      <td>209 min</td>\n",
       "      <td>Dramas</td>\n",
       "      <td>Hit man Frank Sheeran looks back at the secret...</td>\n",
       "      <td>The Irishman</td>\n",
       "      <td>Crime drama</td>\n",
       "      <td>November 27, 2019</td>\n",
       "      <td>209</td>\n",
       "      <td>7.8</td>\n",
       "      <td>English</td>\n",
       "    </tr>\n",
       "  </tbody>\n",
       "</table>\n",
       "</div>"
      ],
      "text/plain": [
       "     Unnamed: 0 show_id   type         title         director  \\\n",
       "237         237   s3228  Movie  The Irishman  Martin Scorsese   \n",
       "\n",
       "                                                  cast        country  \\\n",
       "237  Robert De Niro, Al Pacino, Joe Pesci, Harvey K...  United States   \n",
       "\n",
       "            date_added  release_year rating duration listed_in  \\\n",
       "237  November 27, 2019          2019      R  209 min    Dramas   \n",
       "\n",
       "                                           description         Title  \\\n",
       "237  Hit man Frank Sheeran looks back at the secret...  The Irishman   \n",
       "\n",
       "           Genre           Premiere  Runtime  IMDB Score Language  \n",
       "237  Crime drama  November 27, 2019      209         7.8  English  "
      ]
     },
     "execution_count": 47,
     "metadata": {},
     "output_type": "execute_result"
    }
   ],
   "source": [
    "condicion1 = df_concat[\"director\"] == \"Christopher Nolan\"\n",
    "condicion2 = df_concat[\"director\"] == \"Martin Scorsese\"\n",
    "df_concat[condicion1 | condicion2]"
   ]
  },
  {
   "cell_type": "markdown",
   "id": "fc0c621e",
   "metadata": {},
   "source": [
    "#### Ejercicio 6: ¿Qué títulos pertenecen a los países 'United States', 'United Kingdom' o 'Canada'? Dentro de estos países, ¿cuántas películas tienen más de un lenguaje?"
   ]
  },
  {
   "cell_type": "code",
   "execution_count": null,
   "id": "397619a4",
   "metadata": {},
   "outputs": [],
   "source": []
  },
  {
   "cell_type": "markdown",
   "id": "6e36f1ba",
   "metadata": {},
   "source": [
    "#### Ejercicio 7: ¿Qué títulos fueron lanzados entre 2015 y 2020, inclusive?"
   ]
  },
  {
   "cell_type": "code",
   "execution_count": null,
   "id": "f91a0707",
   "metadata": {},
   "outputs": [],
   "source": []
  },
  {
   "cell_type": "markdown",
   "id": "8ad3dbc3",
   "metadata": {},
   "source": [
    "#### Ejercicio 8: ¿Cuáles son los títulos cuya puntuación en IMDb está entre 6.5 y 8.0 y que no sepamos cual es su duración?"
   ]
  },
  {
   "cell_type": "code",
   "execution_count": null,
   "id": "08b9c8a1",
   "metadata": {},
   "outputs": [],
   "source": []
  },
  {
   "cell_type": "markdown",
   "id": "0afd742e",
   "metadata": {},
   "source": [
    "#### Ejercicio 9: ¿Cuáles son las películas cuya duración de 90 y 150 minutos?"
   ]
  },
  {
   "cell_type": "code",
   "execution_count": null,
   "id": "80d4c76d",
   "metadata": {},
   "outputs": [],
   "source": []
  },
  {
   "cell_type": "markdown",
   "id": "258a99d3",
   "metadata": {},
   "source": [
    "#### Ejercicio 10: ¿Cuáles son los títulos que contienen la palabra 'Love' en su título y que sean de tipo TV Show?"
   ]
  },
  {
   "cell_type": "code",
   "execution_count": null,
   "id": "8daf2abc",
   "metadata": {},
   "outputs": [],
   "source": []
  },
  {
   "cell_type": "markdown",
   "id": "e08091e9",
   "metadata": {},
   "source": [
    "#### Ejercicio 11: ¿Cuáles son los títulos en los que el director tiene el apellido 'Johnson'?"
   ]
  },
  {
   "cell_type": "code",
   "execution_count": null,
   "id": "a8215bbb",
   "metadata": {},
   "outputs": [],
   "source": []
  },
  {
   "cell_type": "markdown",
   "id": "d5bb45ff",
   "metadata": {},
   "source": [
    "#### Ejercicio 12: ¿Tenemos algún documental ('Documentaries') de Mike Tyson?"
   ]
  },
  {
   "cell_type": "code",
   "execution_count": null,
   "id": "ed7861c2",
   "metadata": {},
   "outputs": [],
   "source": []
  },
  {
   "cell_type": "markdown",
   "id": "2bbf4131",
   "metadata": {},
   "source": [
    "#### Ejercicio 13: Selecciona solo las columnas 'title', 'country' y 'release_year' del dataset."
   ]
  },
  {
   "cell_type": "code",
   "execution_count": null,
   "id": "eda1fd35",
   "metadata": {},
   "outputs": [],
   "source": []
  },
  {
   "cell_type": "markdown",
   "id": "3a54ee1c",
   "metadata": {},
   "source": [
    "#### Ejercicio 14: Filtra las columnas que contienen la palabra 'date'."
   ]
  },
  {
   "cell_type": "code",
   "execution_count": null,
   "id": "fb861526",
   "metadata": {},
   "outputs": [],
   "source": []
  },
  {
   "cell_type": "markdown",
   "id": "2fdc640c",
   "metadata": {},
   "source": [
    "#### Ejercicio 15: Usando `query()`, filtra todos los títulos del país 'France' con una duración de 80 minutos."
   ]
  },
  {
   "cell_type": "code",
   "execution_count": null,
   "id": "686daaf5",
   "metadata": {},
   "outputs": [],
   "source": []
  },
  {
   "cell_type": "markdown",
   "id": "dbcb48d5",
   "metadata": {},
   "source": [
    "#### Ejercicio 16: Filtra los títulos que son películas ('Movie') y fueron lanzados antes de 2010."
   ]
  },
  {
   "cell_type": "code",
   "execution_count": null,
   "id": "bc49401c",
   "metadata": {},
   "outputs": [],
   "source": []
  },
  {
   "cell_type": "markdown",
   "id": "d7ed2fd6",
   "metadata": {},
   "source": [
    "#### Ejercicio 17: Encuentra los 10 títulos con las puntuaciones más altas en IMDb."
   ]
  },
  {
   "cell_type": "code",
   "execution_count": null,
   "id": "0ca3bb19",
   "metadata": {},
   "outputs": [],
   "source": []
  },
  {
   "cell_type": "markdown",
   "id": "46219613",
   "metadata": {},
   "source": [
    "#### Ejercicio 18: Encuentra los 5 títulos con las puntuaciones más bajas en IMDb."
   ]
  },
  {
   "cell_type": "code",
   "execution_count": null,
   "id": "546d1ad2",
   "metadata": {},
   "outputs": [],
   "source": []
  },
  {
   "cell_type": "markdown",
   "id": "3eabf7b5",
   "metadata": {},
   "source": [
    "#### Ejercicio 19: Filtra todos los títulos que no tienen un director asignado (valores nulos en la columna 'director')."
   ]
  },
  {
   "cell_type": "code",
   "execution_count": null,
   "id": "8790fdaa",
   "metadata": {},
   "outputs": [],
   "source": []
  },
  {
   "cell_type": "markdown",
   "id": "f4597e27",
   "metadata": {},
   "source": [
    "#### Ejercicio 20: Filtra todos los títulos que tienen información completa en las columnas 'title', 'country' y 'IMDB Score'."
   ]
  },
  {
   "cell_type": "code",
   "execution_count": null,
   "id": "540ac699",
   "metadata": {},
   "outputs": [],
   "source": []
  },
  {
   "cell_type": "markdown",
   "id": "d18a16fe",
   "metadata": {},
   "source": [
    "#### Ejercicio 21: Identifica si hay títulos duplicados en la columna 'title'."
   ]
  },
  {
   "cell_type": "code",
   "execution_count": null,
   "id": "8b36763b",
   "metadata": {},
   "outputs": [],
   "source": []
  }
 ],
 "metadata": {
  "kernelspec": {
   "display_name": "contenido",
   "language": "python",
   "name": "python3"
  },
  "language_info": {
   "codemirror_mode": {
    "name": "ipython",
    "version": 3
   },
   "file_extension": ".py",
   "mimetype": "text/x-python",
   "name": "python",
   "nbconvert_exporter": "python",
   "pygments_lexer": "ipython3",
   "version": "3.12.4"
  }
 },
 "nbformat": 4,
 "nbformat_minor": 5
}
